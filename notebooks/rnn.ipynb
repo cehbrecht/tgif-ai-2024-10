{
 "cells": [
  {
   "cell_type": "code",
   "execution_count": 1,
   "id": "719d2a17-4512-40fe-aa67-63019c25d467",
   "metadata": {},
   "outputs": [],
   "source": [
    "import matplotlib.pyplot as plt\n",
    "import networkx as nx"
   ]
  },
  {
   "cell_type": "code",
   "execution_count": 2,
   "id": "fa2ebdc3-e684-403b-be30-502e12a2828d",
   "metadata": {},
   "outputs": [
    {
     "data": {
      "image/png": "[encoded data removed]",
      "text/plain": [
       "<Figure size 400x400 with 1 Axes>"
      ]
     },
     "metadata": {},
     "output_type": "display_data"
    }
   ],
   "source": [
    "# Create a mixed graph with undirected edges for I-H and H-O, and a directed edge for the loop on H\n",
    "G_mixed = nx.MultiGraph()\n",
    "\n",
    "# Add nodes\n",
    "G_mixed.add_nodes_from([\"I\", \"H\", \"O\"])\n",
    "\n",
    "# Add undirected edges (I-H and H-O) and directed edge (H-H)\n",
    "G_mixed.add_edges_from([(\"I\", \"H\"), (\"H\", \"O\")])  # Undirected edges\n",
    "# G_mixed.add_edge(\"H\", \"H\", key=\"loop\", label=\"loop\", directed=True)  # Directed loop edge\n",
    "\n",
    "# Define positions for the nodes such that \"I\" is at the bottom and \"O\" is at the top\n",
    "positions = {\n",
    "    \"I\": (0, 0),  # Bottom\n",
    "    \"H\": (0, 1),  # Middle\n",
    "    \"O\": (0, 2)   # Top\n",
    "}\n",
    "\n",
    "# Define the colors: orange, green, dark orange\n",
    "node_colors = ['#FFA500', '#008000', '#FF8C00']  # Orange, Green, Dark Orange\n",
    "\n",
    "# Draw the graph\n",
    "plt.figure(figsize=(4, 4))\n",
    "\n",
    "# Draw undirected edges\n",
    "nx.draw(G_mixed, pos=positions, with_labels=True, node_color=node_colors, node_size=3000, font_size=14, font_weight='bold', edge_color='gray')\n",
    "\n",
    "# Draw the directed recurrent loop\n",
    "nx.draw_networkx_edges(G_mixed, pos=positions, edgelist=[(\"H\", \"H\")], arrowstyle='->', arrowsize=20, edge_color='red')\n",
    "\n",
    "# Adjust the position of the loop label slightly to the right\n",
    "loop_label_pos = {\n",
    "    (\"H\", \"H\"): (0.1, 1)  # Shift the label to the right of the H node\n",
    "}\n",
    "\n",
    "# Add the label to the loop\n",
    "nx.draw_networkx_edge_labels(G_mixed, pos=positions, edge_labels={(\"H\", \"H\"): \"loop\"}, font_size=12, label_pos=0.7)\n",
    "\n",
    "# Add the title \"RNN\"\n",
    "plt.title(\"RNN\", fontsize=16)\n",
    "\n",
    "# Save the figure as a PNG image\n",
    "plt.savefig(\"../images/graph/rnn.png\", format=\"png\")"
   ]
  },
  {
   "cell_type": "code",
   "execution_count": 3,
   "id": "f3a5fef8-e7a1-4201-8891-193a227de13b",
   "metadata": {},
   "outputs": [],
   "source": [
    "# Display the plot\n",
    "plt.show()"
   ]
  }
 ],
 "metadata": {
  "kernelspec": {
   "display_name": "Python 3 (ipykernel)",
   "language": "python",
   "name": "python3"
  },
  "language_info": {
   "codemirror_mode": {
    "name": "ipython",
    "version": 3
   },
   "file_extension": ".py",
   "mimetype": "text/x-python",
   "name": "python",
   "nbconvert_exporter": "python",
   "pygments_lexer": "ipython3",
   "version": "3.13.0"
  }
 },
 "nbformat": 4,
 "nbformat_minor": 5
}
